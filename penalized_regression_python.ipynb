{
  "nbformat": 4,
  "nbformat_minor": 0,
  "metadata": {
    "colab": {
      "provenance": [],
      "include_colab_link": true
    },
    "kernelspec": {
      "name": "python3",
      "display_name": "Python 3"
    },
    "language_info": {
      "name": "python"
    }
  },
  "cells": [
    {
      "cell_type": "markdown",
      "metadata": {
        "id": "view-in-github",
        "colab_type": "text"
      },
      "source": [
        "<a href=\"https://colab.research.google.com/github/Romyull-Islam/Penalized-Regression/blob/main/penalized_regression_python.ipynb\" target=\"_parent\"><img src=\"https://colab.research.google.com/assets/colab-badge.svg\" alt=\"Open In Colab\"/></a>"
      ]
    },
    {
      "cell_type": "markdown",
      "source": [
        "## Load the data from MASS package"
      ],
      "metadata": {
        "id": "tqMEbfcy-4eQ"
      }
    },
    {
      "cell_type": "code",
      "source": [
        "import pandas as pd\n",
        "import numpy as np  \n",
        "import matplotlib.pyplot as plt"
      ],
      "metadata": {
        "id": "opcMS4Jr_oLu"
      },
      "execution_count": null,
      "outputs": []
    },
    {
      "cell_type": "code",
      "execution_count": null,
      "metadata": {
        "colab": {
          "base_uri": "https://localhost:8080/",
          "height": 206
        },
        "id": "mJjfsWVH-nZd",
        "outputId": "7541074c-a0ce-4bae-cf3c-0ae24406fd63"
      },
      "outputs": [
        {
          "output_type": "execute_result",
          "data": {
            "text/plain": [
              "      crim    zn  indus  chas    nox     rm   age     dis  rad    tax  \\\n",
              "0  0.00632  18.0   2.31   0.0  0.538  6.575  65.2  4.0900  1.0  296.0   \n",
              "1  0.02731   0.0   7.07   0.0  0.469  6.421  78.9  4.9671  2.0  242.0   \n",
              "2  0.02729   0.0   7.07   0.0  0.469  7.185  61.1  4.9671  2.0  242.0   \n",
              "3  0.03237   0.0   2.18   0.0  0.458  6.998  45.8  6.0622  3.0  222.0   \n",
              "4  0.06905   0.0   2.18   0.0  0.458  7.147  54.2  6.0622  3.0  222.0   \n",
              "\n",
              "   ptratio   black  lstat  medv  \n",
              "0     15.3  396.90   4.98  24.0  \n",
              "1     17.8  396.90   9.14  21.6  \n",
              "2     17.8  392.83   4.03  34.7  \n",
              "3     18.7  394.63   2.94  33.4  \n",
              "4     18.7  396.90   5.33  36.2  "
            ],
            "text/html": [
              "\n",
              "  <div id=\"df-c9c9b4b1-5ee5-4eb5-a18f-dc737fd43f93\">\n",
              "    <div class=\"colab-df-container\">\n",
              "      <div>\n",
              "<style scoped>\n",
              "    .dataframe tbody tr th:only-of-type {\n",
              "        vertical-align: middle;\n",
              "    }\n",
              "\n",
              "    .dataframe tbody tr th {\n",
              "        vertical-align: top;\n",
              "    }\n",
              "\n",
              "    .dataframe thead th {\n",
              "        text-align: right;\n",
              "    }\n",
              "</style>\n",
              "<table border=\"1\" class=\"dataframe\">\n",
              "  <thead>\n",
              "    <tr style=\"text-align: right;\">\n",
              "      <th></th>\n",
              "      <th>crim</th>\n",
              "      <th>zn</th>\n",
              "      <th>indus</th>\n",
              "      <th>chas</th>\n",
              "      <th>nox</th>\n",
              "      <th>rm</th>\n",
              "      <th>age</th>\n",
              "      <th>dis</th>\n",
              "      <th>rad</th>\n",
              "      <th>tax</th>\n",
              "      <th>ptratio</th>\n",
              "      <th>black</th>\n",
              "      <th>lstat</th>\n",
              "      <th>medv</th>\n",
              "    </tr>\n",
              "  </thead>\n",
              "  <tbody>\n",
              "    <tr>\n",
              "      <th>0</th>\n",
              "      <td>0.00632</td>\n",
              "      <td>18.0</td>\n",
              "      <td>2.31</td>\n",
              "      <td>0.0</td>\n",
              "      <td>0.538</td>\n",
              "      <td>6.575</td>\n",
              "      <td>65.2</td>\n",
              "      <td>4.0900</td>\n",
              "      <td>1.0</td>\n",
              "      <td>296.0</td>\n",
              "      <td>15.3</td>\n",
              "      <td>396.90</td>\n",
              "      <td>4.98</td>\n",
              "      <td>24.0</td>\n",
              "    </tr>\n",
              "    <tr>\n",
              "      <th>1</th>\n",
              "      <td>0.02731</td>\n",
              "      <td>0.0</td>\n",
              "      <td>7.07</td>\n",
              "      <td>0.0</td>\n",
              "      <td>0.469</td>\n",
              "      <td>6.421</td>\n",
              "      <td>78.9</td>\n",
              "      <td>4.9671</td>\n",
              "      <td>2.0</td>\n",
              "      <td>242.0</td>\n",
              "      <td>17.8</td>\n",
              "      <td>396.90</td>\n",
              "      <td>9.14</td>\n",
              "      <td>21.6</td>\n",
              "    </tr>\n",
              "    <tr>\n",
              "      <th>2</th>\n",
              "      <td>0.02729</td>\n",
              "      <td>0.0</td>\n",
              "      <td>7.07</td>\n",
              "      <td>0.0</td>\n",
              "      <td>0.469</td>\n",
              "      <td>7.185</td>\n",
              "      <td>61.1</td>\n",
              "      <td>4.9671</td>\n",
              "      <td>2.0</td>\n",
              "      <td>242.0</td>\n",
              "      <td>17.8</td>\n",
              "      <td>392.83</td>\n",
              "      <td>4.03</td>\n",
              "      <td>34.7</td>\n",
              "    </tr>\n",
              "    <tr>\n",
              "      <th>3</th>\n",
              "      <td>0.03237</td>\n",
              "      <td>0.0</td>\n",
              "      <td>2.18</td>\n",
              "      <td>0.0</td>\n",
              "      <td>0.458</td>\n",
              "      <td>6.998</td>\n",
              "      <td>45.8</td>\n",
              "      <td>6.0622</td>\n",
              "      <td>3.0</td>\n",
              "      <td>222.0</td>\n",
              "      <td>18.7</td>\n",
              "      <td>394.63</td>\n",
              "      <td>2.94</td>\n",
              "      <td>33.4</td>\n",
              "    </tr>\n",
              "    <tr>\n",
              "      <th>4</th>\n",
              "      <td>0.06905</td>\n",
              "      <td>0.0</td>\n",
              "      <td>2.18</td>\n",
              "      <td>0.0</td>\n",
              "      <td>0.458</td>\n",
              "      <td>7.147</td>\n",
              "      <td>54.2</td>\n",
              "      <td>6.0622</td>\n",
              "      <td>3.0</td>\n",
              "      <td>222.0</td>\n",
              "      <td>18.7</td>\n",
              "      <td>396.90</td>\n",
              "      <td>5.33</td>\n",
              "      <td>36.2</td>\n",
              "    </tr>\n",
              "  </tbody>\n",
              "</table>\n",
              "</div>\n",
              "      <button class=\"colab-df-convert\" onclick=\"convertToInteractive('df-c9c9b4b1-5ee5-4eb5-a18f-dc737fd43f93')\"\n",
              "              title=\"Convert this dataframe to an interactive table.\"\n",
              "              style=\"display:none;\">\n",
              "        \n",
              "  <svg xmlns=\"http://www.w3.org/2000/svg\" height=\"24px\"viewBox=\"0 0 24 24\"\n",
              "       width=\"24px\">\n",
              "    <path d=\"M0 0h24v24H0V0z\" fill=\"none\"/>\n",
              "    <path d=\"M18.56 5.44l.94 2.06.94-2.06 2.06-.94-2.06-.94-.94-2.06-.94 2.06-2.06.94zm-11 1L8.5 8.5l.94-2.06 2.06-.94-2.06-.94L8.5 2.5l-.94 2.06-2.06.94zm10 10l.94 2.06.94-2.06 2.06-.94-2.06-.94-.94-2.06-.94 2.06-2.06.94z\"/><path d=\"M17.41 7.96l-1.37-1.37c-.4-.4-.92-.59-1.43-.59-.52 0-1.04.2-1.43.59L10.3 9.45l-7.72 7.72c-.78.78-.78 2.05 0 2.83L4 21.41c.39.39.9.59 1.41.59.51 0 1.02-.2 1.41-.59l7.78-7.78 2.81-2.81c.8-.78.8-2.07 0-2.86zM5.41 20L4 18.59l7.72-7.72 1.47 1.35L5.41 20z\"/>\n",
              "  </svg>\n",
              "      </button>\n",
              "      \n",
              "  <style>\n",
              "    .colab-df-container {\n",
              "      display:flex;\n",
              "      flex-wrap:wrap;\n",
              "      gap: 12px;\n",
              "    }\n",
              "\n",
              "    .colab-df-convert {\n",
              "      background-color: #E8F0FE;\n",
              "      border: none;\n",
              "      border-radius: 50%;\n",
              "      cursor: pointer;\n",
              "      display: none;\n",
              "      fill: #1967D2;\n",
              "      height: 32px;\n",
              "      padding: 0 0 0 0;\n",
              "      width: 32px;\n",
              "    }\n",
              "\n",
              "    .colab-df-convert:hover {\n",
              "      background-color: #E2EBFA;\n",
              "      box-shadow: 0px 1px 2px rgba(60, 64, 67, 0.3), 0px 1px 3px 1px rgba(60, 64, 67, 0.15);\n",
              "      fill: #174EA6;\n",
              "    }\n",
              "\n",
              "    [theme=dark] .colab-df-convert {\n",
              "      background-color: #3B4455;\n",
              "      fill: #D2E3FC;\n",
              "    }\n",
              "\n",
              "    [theme=dark] .colab-df-convert:hover {\n",
              "      background-color: #434B5C;\n",
              "      box-shadow: 0px 1px 3px 1px rgba(0, 0, 0, 0.15);\n",
              "      filter: drop-shadow(0px 1px 2px rgba(0, 0, 0, 0.3));\n",
              "      fill: #FFFFFF;\n",
              "    }\n",
              "  </style>\n",
              "\n",
              "      <script>\n",
              "        const buttonEl =\n",
              "          document.querySelector('#df-c9c9b4b1-5ee5-4eb5-a18f-dc737fd43f93 button.colab-df-convert');\n",
              "        buttonEl.style.display =\n",
              "          google.colab.kernel.accessAllowed ? 'block' : 'none';\n",
              "\n",
              "        async function convertToInteractive(key) {\n",
              "          const element = document.querySelector('#df-c9c9b4b1-5ee5-4eb5-a18f-dc737fd43f93');\n",
              "          const dataTable =\n",
              "            await google.colab.kernel.invokeFunction('convertToInteractive',\n",
              "                                                     [key], {});\n",
              "          if (!dataTable) return;\n",
              "\n",
              "          const docLinkHtml = 'Like what you see? Visit the ' +\n",
              "            '<a target=\"_blank\" href=https://colab.research.google.com/notebooks/data_table.ipynb>data table notebook</a>'\n",
              "            + ' to learn more about interactive tables.';\n",
              "          element.innerHTML = '';\n",
              "          dataTable['output_type'] = 'display_data';\n",
              "          await google.colab.output.renderOutput(dataTable, element);\n",
              "          const docLink = document.createElement('div');\n",
              "          docLink.innerHTML = docLinkHtml;\n",
              "          element.appendChild(docLink);\n",
              "        }\n",
              "      </script>\n",
              "    </div>\n",
              "  </div>\n",
              "  "
            ]
          },
          "metadata": {},
          "execution_count": 20
        }
      ],
      "source": [
        "data = pd.read_csv('https://r-data.pmagunia.com/system/files/datasets/dataset-70319.csv',dtype=np.float64)\n",
        "data.head()\n",
        "#https://r-data.pmagunia.com/system/files/datasets/dataset-70319.csv"
      ]
    },
    {
      "cell_type": "markdown",
      "source": [
        "## Define the predictors and response and train test split\n",
        "\n",
        "\n",
        "\n"
      ],
      "metadata": {
        "id": "07EiDfjY_xmR"
      }
    },
    {
      "cell_type": "code",
      "source": [
        "y=data['medv']\n",
        "X = data.drop('medv', axis=1)\n",
        "\n",
        "from sklearn.model_selection import train_test_split\n",
        "\n",
        "#for initial testing purpose we are spliting train test from train data\n",
        "\n",
        "X_train, X_test, y_train, y_test = train_test_split(X, y, test_size=0.33, random_state=123)"
      ],
      "metadata": {
        "id": "UYKQ7H3z_lBm"
      },
      "execution_count": null,
      "outputs": []
    },
    {
      "cell_type": "markdown",
      "source": [
        "##Linear Regression or  Ordinary Least Squares\n"
      ],
      "metadata": {
        "id": "vcLl83r-2qdN"
      }
    },
    {
      "cell_type": "code",
      "source": [
        "from sklearn import linear_model\n",
        "model = linear_model.LinearRegression()\n",
        "model.fit(X_train, y_train)"
      ],
      "metadata": {
        "colab": {
          "base_uri": "https://localhost:8080/",
          "height": 74
        },
        "id": "LBfXQPAyo9BW",
        "outputId": "ec6087a2-4ef2-4c3b-a20c-6ed28e8e36db"
      },
      "execution_count": null,
      "outputs": [
        {
          "output_type": "execute_result",
          "data": {
            "text/plain": [
              "LinearRegression()"
            ],
            "text/html": [
              "<style>#sk-container-id-3 {color: black;background-color: white;}#sk-container-id-3 pre{padding: 0;}#sk-container-id-3 div.sk-toggleable {background-color: white;}#sk-container-id-3 label.sk-toggleable__label {cursor: pointer;display: block;width: 100%;margin-bottom: 0;padding: 0.3em;box-sizing: border-box;text-align: center;}#sk-container-id-3 label.sk-toggleable__label-arrow:before {content: \"▸\";float: left;margin-right: 0.25em;color: #696969;}#sk-container-id-3 label.sk-toggleable__label-arrow:hover:before {color: black;}#sk-container-id-3 div.sk-estimator:hover label.sk-toggleable__label-arrow:before {color: black;}#sk-container-id-3 div.sk-toggleable__content {max-height: 0;max-width: 0;overflow: hidden;text-align: left;background-color: #f0f8ff;}#sk-container-id-3 div.sk-toggleable__content pre {margin: 0.2em;color: black;border-radius: 0.25em;background-color: #f0f8ff;}#sk-container-id-3 input.sk-toggleable__control:checked~div.sk-toggleable__content {max-height: 200px;max-width: 100%;overflow: auto;}#sk-container-id-3 input.sk-toggleable__control:checked~label.sk-toggleable__label-arrow:before {content: \"▾\";}#sk-container-id-3 div.sk-estimator input.sk-toggleable__control:checked~label.sk-toggleable__label {background-color: #d4ebff;}#sk-container-id-3 div.sk-label input.sk-toggleable__control:checked~label.sk-toggleable__label {background-color: #d4ebff;}#sk-container-id-3 input.sk-hidden--visually {border: 0;clip: rect(1px 1px 1px 1px);clip: rect(1px, 1px, 1px, 1px);height: 1px;margin: -1px;overflow: hidden;padding: 0;position: absolute;width: 1px;}#sk-container-id-3 div.sk-estimator {font-family: monospace;background-color: #f0f8ff;border: 1px dotted black;border-radius: 0.25em;box-sizing: border-box;margin-bottom: 0.5em;}#sk-container-id-3 div.sk-estimator:hover {background-color: #d4ebff;}#sk-container-id-3 div.sk-parallel-item::after {content: \"\";width: 100%;border-bottom: 1px solid gray;flex-grow: 1;}#sk-container-id-3 div.sk-label:hover label.sk-toggleable__label {background-color: #d4ebff;}#sk-container-id-3 div.sk-serial::before {content: \"\";position: absolute;border-left: 1px solid gray;box-sizing: border-box;top: 0;bottom: 0;left: 50%;z-index: 0;}#sk-container-id-3 div.sk-serial {display: flex;flex-direction: column;align-items: center;background-color: white;padding-right: 0.2em;padding-left: 0.2em;position: relative;}#sk-container-id-3 div.sk-item {position: relative;z-index: 1;}#sk-container-id-3 div.sk-parallel {display: flex;align-items: stretch;justify-content: center;background-color: white;position: relative;}#sk-container-id-3 div.sk-item::before, #sk-container-id-3 div.sk-parallel-item::before {content: \"\";position: absolute;border-left: 1px solid gray;box-sizing: border-box;top: 0;bottom: 0;left: 50%;z-index: -1;}#sk-container-id-3 div.sk-parallel-item {display: flex;flex-direction: column;z-index: 1;position: relative;background-color: white;}#sk-container-id-3 div.sk-parallel-item:first-child::after {align-self: flex-end;width: 50%;}#sk-container-id-3 div.sk-parallel-item:last-child::after {align-self: flex-start;width: 50%;}#sk-container-id-3 div.sk-parallel-item:only-child::after {width: 0;}#sk-container-id-3 div.sk-dashed-wrapped {border: 1px dashed gray;margin: 0 0.4em 0.5em 0.4em;box-sizing: border-box;padding-bottom: 0.4em;background-color: white;}#sk-container-id-3 div.sk-label label {font-family: monospace;font-weight: bold;display: inline-block;line-height: 1.2em;}#sk-container-id-3 div.sk-label-container {text-align: center;}#sk-container-id-3 div.sk-container {/* jupyter's `normalize.less` sets `[hidden] { display: none; }` but bootstrap.min.css set `[hidden] { display: none !important; }` so we also need the `!important` here to be able to override the default hidden behavior on the sphinx rendered scikit-learn.org. See: https://github.com/scikit-learn/scikit-learn/issues/21755 */display: inline-block !important;position: relative;}#sk-container-id-3 div.sk-text-repr-fallback {display: none;}</style><div id=\"sk-container-id-3\" class=\"sk-top-container\"><div class=\"sk-text-repr-fallback\"><pre>LinearRegression()</pre><b>In a Jupyter environment, please rerun this cell to show the HTML representation or trust the notebook. <br />On GitHub, the HTML representation is unable to render, please try loading this page with nbviewer.org.</b></div><div class=\"sk-container\" hidden><div class=\"sk-item\"><div class=\"sk-estimator sk-toggleable\"><input class=\"sk-toggleable__control sk-hidden--visually\" id=\"sk-estimator-id-3\" type=\"checkbox\" checked><label for=\"sk-estimator-id-3\" class=\"sk-toggleable__label sk-toggleable__label-arrow\">LinearRegression</label><div class=\"sk-toggleable__content\"><pre>LinearRegression()</pre></div></div></div></div></div>"
            ]
          },
          "metadata": {},
          "execution_count": 22
        }
      ]
    },
    {
      "cell_type": "code",
      "source": [
        "\n",
        "r_sq = model.score(X_train, y_train)\n",
        "print(f\"coefficient of determination: {r_sq}\")\n",
        "\n",
        "print(f\"intercept: {model.intercept_}\")\n",
        "\n",
        "\n",
        "print(f\"slope: {model.coef_}\")"
      ],
      "metadata": {
        "colab": {
          "base_uri": "https://localhost:8080/"
        },
        "id": "GVUMWiMyqCV_",
        "outputId": "5f79854e-dea0-4cda-faa9-e0d58ae59560"
      },
      "execution_count": null,
      "outputs": [
        {
          "output_type": "stream",
          "name": "stdout",
          "text": [
            "coefficient of determination: 0.7684382348473906\n",
            "intercept: 23.855642872647742\n",
            "slope: [-1.02196670e-01  3.05092153e-02  9.90743259e-02  1.35169810e-01\n",
            " -1.20283882e+01  5.04576935e+00 -7.00267196e-03 -1.16242480e+00\n",
            "  2.79499772e-01 -1.27385555e-02 -9.24286339e-01  9.55113115e-03\n",
            " -5.04873386e-01]\n"
          ]
        }
      ]
    },
    {
      "cell_type": "markdown",
      "source": [
        "##Evaluation metrics"
      ],
      "metadata": {
        "id": "gtnXmapv3kyu"
      }
    },
    {
      "cell_type": "code",
      "source": [
        "from sklearn.metrics import mean_squared_error,mean_absolute_error,median_absolute_error\n",
        "from sklearn.metrics import mean_squared_log_error,r2_score,max_error\n",
        "import math"
      ],
      "metadata": {
        "id": "9rgX1-1C3kyv"
      },
      "execution_count": null,
      "outputs": []
    },
    {
      "cell_type": "code",
      "source": [
        "predict=model.predict(X_test)"
      ],
      "metadata": {
        "id": "gfKj1CRb2Cl_"
      },
      "execution_count": null,
      "outputs": []
    },
    {
      "cell_type": "code",
      "source": [
        "\n",
        "print(r2_score(y_test,predict))\n",
        "\n",
        "# Mean Squared Error\n",
        "print(mean_squared_error(y_test,predict))\n",
        "\n",
        "#RMSE\n",
        "math.sqrt(mean_squared_error(y_test,predict))\n",
        "\n",
        "#mean_absolute_error\n",
        "mean_absolute_error(y_test,predict)\n"
      ],
      "metadata": {
        "colab": {
          "base_uri": "https://localhost:8080/"
        },
        "id": "Vhy-fT2L2QdN",
        "outputId": "4b10fa86-54fa-45bc-d9ec-48fc1e6a56fd"
      },
      "execution_count": null,
      "outputs": [
        {
          "output_type": "stream",
          "name": "stdout",
          "text": [
            "0.6519355846296851\n",
            "29.954042187345376\n"
          ]
        },
        {
          "output_type": "execute_result",
          "data": {
            "text/plain": [
              "3.7919531604268926"
            ]
          },
          "metadata": {},
          "execution_count": 26
        }
      ]
    },
    {
      "cell_type": "markdown",
      "source": [
        "# Penalization"
      ],
      "metadata": {
        "id": "XVGvuSAZ95JI"
      }
    },
    {
      "cell_type": "markdown",
      "source": [
        "\n",
        "\n",
        "*   When l1-ratio=0, Ridge Model is fit and \n",
        "*   if l1-ratio=1, a lasso model is fit.\n",
        "*   if l1-ratio = (0, 1), a ELastic Net is fit\n",
        "* alpha is the learning rate\n",
        "\n",
        "The parameter l1_ratio corresponds to alpha in the glmnet R package while alpha corresponds to the lambda parameter in glmnet.\n",
        "\n",
        "\n",
        "\n",
        "\n",
        "\n",
        "\n",
        "\n",
        "\n",
        "\n"
      ],
      "metadata": {
        "id": "jsnP-B0LB3rl"
      }
    },
    {
      "cell_type": "markdown",
      "source": [
        "##Elastic Net"
      ],
      "metadata": {
        "id": "NbQfgJqn8dDH"
      }
    },
    {
      "cell_type": "markdown",
      "source": [
        "#Do the cross-validation first\n",
        "\n",
        "\n",
        "\n"
      ],
      "metadata": {
        "id": "GvF7WIFr4a23"
      }
    },
    {
      "cell_type": "code",
      "source": [
        "#Coordinate descent with alpha=0(l1_ratio) may lead to unexpected results and is discouraged. tha's why we are using logspace insteadt of linespace(0, 1, 100)\n",
        "\n",
        "from sklearn.linear_model import ElasticNetCV\n",
        "modelcv = ElasticNetCV(l1_ratio=np.logspace(-2, 0, 100), eps=0.00001,  alphas=np.logspace(-2, 2, 1000), fit_intercept=True,  precompute='auto', max_iter=1000, tol=0.0001, cv=None, copy_X=True)\n",
        "modelcv.fit(X,y)"
      ],
      "metadata": {
        "colab": {
          "base_uri": "https://localhost:8080/",
          "height": 251
        },
        "id": "AA1skSzi4ZvD",
        "outputId": "702cf750-fbec-480a-b88f-b0c8dbd2fe89"
      },
      "execution_count": null,
      "outputs": [
        {
          "output_type": "execute_result",
          "data": {
            "text/plain": [
              "ElasticNetCV(alphas=array([1.00000000e-02, 1.00926219e-02, 1.01861017e-02, 1.02804473e-02,\n",
              "       1.03756668e-02, 1.04717682e-02, 1.05687597e-02, 1.06666496e-02,\n",
              "       1.07654461e-02, 1.08651577e-02, 1.09657929e-02, 1.10673602e-02,\n",
              "       1.11698682e-02, 1.12733256e-02, 1.13777413e-02, 1.14831241e-02,\n",
              "       1.15894830e-02, 1.16968270e-02, 1.18051653e-02, 1.19145070e-02,\n",
              "       1.20248614e-02, 1.213623...\n",
              "       0.20565123, 0.21544347, 0.22570197, 0.23644894, 0.24770764,\n",
              "       0.25950242, 0.27185882, 0.28480359, 0.29836472, 0.31257158,\n",
              "       0.32745492, 0.34304693, 0.35938137, 0.37649358, 0.39442061,\n",
              "       0.41320124, 0.43287613, 0.45348785, 0.47508102, 0.49770236,\n",
              "       0.52140083, 0.54622772, 0.57223677, 0.59948425, 0.62802914,\n",
              "       0.65793322, 0.68926121, 0.7220809 , 0.75646333, 0.7924829 ,\n",
              "       0.83021757, 0.869749  , 0.91116276, 0.95454846, 1.        ]))"
            ],
            "text/html": [
              "<style>#sk-container-id-4 {color: black;background-color: white;}#sk-container-id-4 pre{padding: 0;}#sk-container-id-4 div.sk-toggleable {background-color: white;}#sk-container-id-4 label.sk-toggleable__label {cursor: pointer;display: block;width: 100%;margin-bottom: 0;padding: 0.3em;box-sizing: border-box;text-align: center;}#sk-container-id-4 label.sk-toggleable__label-arrow:before {content: \"▸\";float: left;margin-right: 0.25em;color: #696969;}#sk-container-id-4 label.sk-toggleable__label-arrow:hover:before {color: black;}#sk-container-id-4 div.sk-estimator:hover label.sk-toggleable__label-arrow:before {color: black;}#sk-container-id-4 div.sk-toggleable__content {max-height: 0;max-width: 0;overflow: hidden;text-align: left;background-color: #f0f8ff;}#sk-container-id-4 div.sk-toggleable__content pre {margin: 0.2em;color: black;border-radius: 0.25em;background-color: #f0f8ff;}#sk-container-id-4 input.sk-toggleable__control:checked~div.sk-toggleable__content {max-height: 200px;max-width: 100%;overflow: auto;}#sk-container-id-4 input.sk-toggleable__control:checked~label.sk-toggleable__label-arrow:before {content: \"▾\";}#sk-container-id-4 div.sk-estimator input.sk-toggleable__control:checked~label.sk-toggleable__label {background-color: #d4ebff;}#sk-container-id-4 div.sk-label input.sk-toggleable__control:checked~label.sk-toggleable__label {background-color: #d4ebff;}#sk-container-id-4 input.sk-hidden--visually {border: 0;clip: rect(1px 1px 1px 1px);clip: rect(1px, 1px, 1px, 1px);height: 1px;margin: -1px;overflow: hidden;padding: 0;position: absolute;width: 1px;}#sk-container-id-4 div.sk-estimator {font-family: monospace;background-color: #f0f8ff;border: 1px dotted black;border-radius: 0.25em;box-sizing: border-box;margin-bottom: 0.5em;}#sk-container-id-4 div.sk-estimator:hover {background-color: #d4ebff;}#sk-container-id-4 div.sk-parallel-item::after {content: \"\";width: 100%;border-bottom: 1px solid gray;flex-grow: 1;}#sk-container-id-4 div.sk-label:hover label.sk-toggleable__label {background-color: #d4ebff;}#sk-container-id-4 div.sk-serial::before {content: \"\";position: absolute;border-left: 1px solid gray;box-sizing: border-box;top: 0;bottom: 0;left: 50%;z-index: 0;}#sk-container-id-4 div.sk-serial {display: flex;flex-direction: column;align-items: center;background-color: white;padding-right: 0.2em;padding-left: 0.2em;position: relative;}#sk-container-id-4 div.sk-item {position: relative;z-index: 1;}#sk-container-id-4 div.sk-parallel {display: flex;align-items: stretch;justify-content: center;background-color: white;position: relative;}#sk-container-id-4 div.sk-item::before, #sk-container-id-4 div.sk-parallel-item::before {content: \"\";position: absolute;border-left: 1px solid gray;box-sizing: border-box;top: 0;bottom: 0;left: 50%;z-index: -1;}#sk-container-id-4 div.sk-parallel-item {display: flex;flex-direction: column;z-index: 1;position: relative;background-color: white;}#sk-container-id-4 div.sk-parallel-item:first-child::after {align-self: flex-end;width: 50%;}#sk-container-id-4 div.sk-parallel-item:last-child::after {align-self: flex-start;width: 50%;}#sk-container-id-4 div.sk-parallel-item:only-child::after {width: 0;}#sk-container-id-4 div.sk-dashed-wrapped {border: 1px dashed gray;margin: 0 0.4em 0.5em 0.4em;box-sizing: border-box;padding-bottom: 0.4em;background-color: white;}#sk-container-id-4 div.sk-label label {font-family: monospace;font-weight: bold;display: inline-block;line-height: 1.2em;}#sk-container-id-4 div.sk-label-container {text-align: center;}#sk-container-id-4 div.sk-container {/* jupyter's `normalize.less` sets `[hidden] { display: none; }` but bootstrap.min.css set `[hidden] { display: none !important; }` so we also need the `!important` here to be able to override the default hidden behavior on the sphinx rendered scikit-learn.org. See: https://github.com/scikit-learn/scikit-learn/issues/21755 */display: inline-block !important;position: relative;}#sk-container-id-4 div.sk-text-repr-fallback {display: none;}</style><div id=\"sk-container-id-4\" class=\"sk-top-container\"><div class=\"sk-text-repr-fallback\"><pre>ElasticNetCV(alphas=array([1.00000000e-02, 1.00926219e-02, 1.01861017e-02, 1.02804473e-02,\n",
              "       1.03756668e-02, 1.04717682e-02, 1.05687597e-02, 1.06666496e-02,\n",
              "       1.07654461e-02, 1.08651577e-02, 1.09657929e-02, 1.10673602e-02,\n",
              "       1.11698682e-02, 1.12733256e-02, 1.13777413e-02, 1.14831241e-02,\n",
              "       1.15894830e-02, 1.16968270e-02, 1.18051653e-02, 1.19145070e-02,\n",
              "       1.20248614e-02, 1.213623...\n",
              "       0.20565123, 0.21544347, 0.22570197, 0.23644894, 0.24770764,\n",
              "       0.25950242, 0.27185882, 0.28480359, 0.29836472, 0.31257158,\n",
              "       0.32745492, 0.34304693, 0.35938137, 0.37649358, 0.39442061,\n",
              "       0.41320124, 0.43287613, 0.45348785, 0.47508102, 0.49770236,\n",
              "       0.52140083, 0.54622772, 0.57223677, 0.59948425, 0.62802914,\n",
              "       0.65793322, 0.68926121, 0.7220809 , 0.75646333, 0.7924829 ,\n",
              "       0.83021757, 0.869749  , 0.91116276, 0.95454846, 1.        ]))</pre><b>In a Jupyter environment, please rerun this cell to show the HTML representation or trust the notebook. <br />On GitHub, the HTML representation is unable to render, please try loading this page with nbviewer.org.</b></div><div class=\"sk-container\" hidden><div class=\"sk-item\"><div class=\"sk-estimator sk-toggleable\"><input class=\"sk-toggleable__control sk-hidden--visually\" id=\"sk-estimator-id-4\" type=\"checkbox\" checked><label for=\"sk-estimator-id-4\" class=\"sk-toggleable__label sk-toggleable__label-arrow\">ElasticNetCV</label><div class=\"sk-toggleable__content\"><pre>ElasticNetCV(alphas=array([1.00000000e-02, 1.00926219e-02, 1.01861017e-02, 1.02804473e-02,\n",
              "       1.03756668e-02, 1.04717682e-02, 1.05687597e-02, 1.06666496e-02,\n",
              "       1.07654461e-02, 1.08651577e-02, 1.09657929e-02, 1.10673602e-02,\n",
              "       1.11698682e-02, 1.12733256e-02, 1.13777413e-02, 1.14831241e-02,\n",
              "       1.15894830e-02, 1.16968270e-02, 1.18051653e-02, 1.19145070e-02,\n",
              "       1.20248614e-02, 1.213623...\n",
              "       0.20565123, 0.21544347, 0.22570197, 0.23644894, 0.24770764,\n",
              "       0.25950242, 0.27185882, 0.28480359, 0.29836472, 0.31257158,\n",
              "       0.32745492, 0.34304693, 0.35938137, 0.37649358, 0.39442061,\n",
              "       0.41320124, 0.43287613, 0.45348785, 0.47508102, 0.49770236,\n",
              "       0.52140083, 0.54622772, 0.57223677, 0.59948425, 0.62802914,\n",
              "       0.65793322, 0.68926121, 0.7220809 , 0.75646333, 0.7924829 ,\n",
              "       0.83021757, 0.869749  , 0.91116276, 0.95454846, 1.        ]))</pre></div></div></div></div></div>"
            ]
          },
          "metadata": {},
          "execution_count": 27
        }
      ]
    },
    {
      "cell_type": "code",
      "source": [
        "#alphas shows in the ElasticNetCV is l1 ratios. we can check it by this code\n",
        "#print(np.logspace(-2, 0, 100))"
      ],
      "metadata": {
        "id": "gYwmh0AVxrXl"
      },
      "execution_count": null,
      "outputs": []
    },
    {
      "cell_type": "code",
      "source": [
        "al=modelcv.alpha_\n",
        "print(al)\n",
        "dg=modelcv.dual_gap_\n",
        "print(dg)\n",
        "print(modelcv.l1_ratio_)\n",
        "print(modelcv.feature_names_in_)"
      ],
      "metadata": {
        "colab": {
          "base_uri": "https://localhost:8080/"
        },
        "id": "llC_MtfDuxb5",
        "outputId": "36be3f3c-b965-4d07-c16d-63eb56938288"
      },
      "execution_count": null,
      "outputs": [
        {
          "output_type": "stream",
          "name": "stdout",
          "text": [
            "0.3711671819475765\n",
            "0.007920659761442617\n",
            "0.01\n",
            "['crim' 'zn' 'indus' 'chas' 'nox' 'rm' 'age' 'dis' 'rad' 'tax' 'ptratio'\n",
            " 'black' 'lstat']\n"
          ]
        }
      ]
    },
    {
      "cell_type": "code",
      "source": [
        "modelcv.alphas_"
      ],
      "metadata": {
        "id": "e4T8UqxN6Tq9",
        "colab": {
          "base_uri": "https://localhost:8080/"
        },
        "outputId": "7cddfc5c-a58e-4e49-858e-01694ff54e76"
      },
      "execution_count": null,
      "outputs": [
        {
          "output_type": "execute_result",
          "data": {
            "text/plain": [
              "array([1.00000000e+02, 9.90822810e+01, 9.81729841e+01, 9.72720319e+01,\n",
              "       9.63793480e+01, 9.54948564e+01, 9.46184819e+01, 9.37501502e+01,\n",
              "       9.28897872e+01, 9.20373200e+01, 9.11926760e+01, 9.03557835e+01,\n",
              "       8.95265713e+01, 8.87049689e+01, 8.78909065e+01, 8.70843150e+01,\n",
              "       8.62851257e+01, 8.54932707e+01, 8.47086827e+01, 8.39312950e+01,\n",
              "       8.31610415e+01, 8.23978568e+01, 8.16416760e+01, 8.08924349e+01,\n",
              "       8.01500696e+01, 7.94145172e+01, 7.86857151e+01, 7.79636013e+01,\n",
              "       7.72481145e+01, 7.65391939e+01, 7.58367791e+01, 7.51408106e+01,\n",
              "       7.44512291e+01, 7.37679760e+01, 7.30909933e+01, 7.24202233e+01,\n",
              "       7.17556092e+01, 7.10970943e+01, 7.04446228e+01, 6.97981391e+01,\n",
              "       6.91575883e+01, 6.85229160e+01, 6.78940681e+01, 6.72709914e+01,\n",
              "       6.66536327e+01, 6.60419396e+01, 6.54358602e+01, 6.48353429e+01,\n",
              "       6.42403366e+01, 6.36507908e+01, 6.30666554e+01, 6.24878807e+01,\n",
              "       6.19144176e+01, 6.13462172e+01, 6.07832313e+01, 6.02254120e+01,\n",
              "       5.96727120e+01, 5.91250841e+01, 5.85824820e+01, 5.80448594e+01,\n",
              "       5.75121707e+01, 5.69843706e+01, 5.64614142e+01, 5.59432571e+01,\n",
              "       5.54298552e+01, 5.49211648e+01, 5.44171429e+01, 5.39177464e+01,\n",
              "       5.34229330e+01, 5.29326606e+01, 5.24468875e+01, 5.19655724e+01,\n",
              "       5.14886745e+01, 5.10161531e+01, 5.05479682e+01, 5.00840799e+01,\n",
              "       4.96244488e+01, 4.91690358e+01, 4.87178022e+01, 4.82707097e+01,\n",
              "       4.78277202e+01, 4.73887961e+01, 4.69539001e+01, 4.65229952e+01,\n",
              "       4.60960449e+01, 4.56730127e+01, 4.52538628e+01, 4.48385595e+01,\n",
              "       4.44270675e+01, 4.40193519e+01, 4.36153779e+01, 4.32151113e+01,\n",
              "       4.28185180e+01, 4.24255643e+01, 4.20362168e+01, 4.16504425e+01,\n",
              "       4.12682085e+01, 4.08894823e+01, 4.05142317e+01, 4.01424249e+01,\n",
              "       3.97740302e+01, 3.94090164e+01, 3.90473524e+01, 3.86890074e+01,\n",
              "       3.83339510e+01, 3.79821531e+01, 3.76335836e+01, 3.72882131e+01,\n",
              "       3.69460121e+01, 3.66069515e+01, 3.62710025e+01, 3.59381366e+01,\n",
              "       3.56083255e+01, 3.52815412e+01, 3.49577557e+01, 3.46369418e+01,\n",
              "       3.43190720e+01, 3.40041193e+01, 3.36920571e+01, 3.33828586e+01,\n",
              "       3.30764978e+01, 3.27729485e+01, 3.24721849e+01, 3.21741815e+01,\n",
              "       3.18789129e+01, 3.15863541e+01, 3.12964801e+01, 3.10092664e+01,\n",
              "       3.07246884e+01, 3.04427221e+01, 3.01633435e+01, 2.98865287e+01,\n",
              "       2.96122544e+01, 2.93404971e+01, 2.90712338e+01, 2.88044415e+01,\n",
              "       2.85400977e+01, 2.82781798e+01, 2.80186656e+01, 2.77615329e+01,\n",
              "       2.75067601e+01, 2.72543253e+01, 2.70042072e+01, 2.67563844e+01,\n",
              "       2.65108360e+01, 2.62675410e+01, 2.60264788e+01, 2.57876289e+01,\n",
              "       2.55509709e+01, 2.53164848e+01, 2.50841506e+01, 2.48539486e+01,\n",
              "       2.46258592e+01, 2.43998630e+01, 2.41759408e+01, 2.39540736e+01,\n",
              "       2.37342425e+01, 2.35164288e+01, 2.33006141e+01, 2.30867799e+01,\n",
              "       2.28749082e+01, 2.26649808e+01, 2.24569800e+01, 2.22508880e+01,\n",
              "       2.20466874e+01, 2.18443607e+01, 2.16438909e+01, 2.14452608e+01,\n",
              "       2.12484535e+01, 2.10534524e+01, 2.08602409e+01, 2.06688025e+01,\n",
              "       2.04791210e+01, 2.02911802e+01, 2.01049642e+01, 1.99204571e+01,\n",
              "       1.97376433e+01, 1.95565072e+01, 1.93770334e+01, 1.91992067e+01,\n",
              "       1.90230119e+01, 1.88484341e+01, 1.86754584e+01, 1.85040702e+01,\n",
              "       1.83342548e+01, 1.81659979e+01, 1.79992851e+01, 1.78341022e+01,\n",
              "       1.76704353e+01, 1.75082703e+01, 1.73475936e+01, 1.71883914e+01,\n",
              "       1.70306503e+01, 1.68743568e+01, 1.67194976e+01, 1.65660596e+01,\n",
              "       1.64140297e+01, 1.62633950e+01, 1.61141428e+01, 1.59662602e+01,\n",
              "       1.58197348e+01, 1.56745541e+01, 1.55307057e+01, 1.53881775e+01,\n",
              "       1.52469573e+01, 1.51070330e+01, 1.49683929e+01, 1.48310251e+01,\n",
              "       1.46949180e+01, 1.45600600e+01, 1.44264395e+01, 1.42940453e+01,\n",
              "       1.41628662e+01, 1.40328908e+01, 1.39041083e+01, 1.37765077e+01,\n",
              "       1.36500781e+01, 1.35248087e+01, 1.34006890e+01, 1.32777083e+01,\n",
              "       1.31558562e+01, 1.30351224e+01, 1.29154967e+01, 1.27969687e+01,\n",
              "       1.26795285e+01, 1.25631660e+01, 1.24478715e+01, 1.23336350e+01,\n",
              "       1.22204469e+01, 1.21082975e+01, 1.19971774e+01, 1.18870770e+01,\n",
              "       1.17779870e+01, 1.16698982e+01, 1.15628013e+01, 1.14566873e+01,\n",
              "       1.13515471e+01, 1.12473718e+01, 1.11441525e+01, 1.10418805e+01,\n",
              "       1.09405471e+01, 1.08401436e+01, 1.07406615e+01, 1.06420924e+01,\n",
              "       1.05444279e+01, 1.04476597e+01, 1.03517796e+01, 1.02567793e+01,\n",
              "       1.01626509e+01, 1.00693863e+01, 9.97697764e+00, 9.88541702e+00,\n",
              "       9.79469667e+00, 9.70480888e+00, 9.61574600e+00, 9.52750047e+00,\n",
              "       9.44006479e+00, 9.35343152e+00, 9.26759330e+00, 9.18254284e+00,\n",
              "       9.09827289e+00, 9.01477631e+00, 8.93204600e+00, 8.85007491e+00,\n",
              "       8.76885609e+00, 8.68838264e+00, 8.60864770e+00, 8.52964450e+00,\n",
              "       8.45136633e+00, 8.37380654e+00, 8.29695852e+00, 8.22081576e+00,\n",
              "       8.14537177e+00, 8.07062014e+00, 7.99655453e+00, 7.92316862e+00,\n",
              "       7.85045620e+00, 7.77841107e+00, 7.70702711e+00, 7.63629826e+00,\n",
              "       7.56621850e+00, 7.49678187e+00, 7.42798248e+00, 7.35981448e+00,\n",
              "       7.29227206e+00, 7.22534949e+00, 7.15904109e+00, 7.09334120e+00,\n",
              "       7.02824426e+00, 6.96374473e+00, 6.89983712e+00, 6.83651600e+00,\n",
              "       6.77377600e+00, 6.71161177e+00, 6.65001803e+00, 6.58898955e+00,\n",
              "       6.52852114e+00, 6.46860766e+00, 6.40924402e+00, 6.35042517e+00,\n",
              "       6.29214611e+00, 6.23440189e+00, 6.17718760e+00, 6.12049837e+00,\n",
              "       6.06432940e+00, 6.00867589e+00, 5.95353313e+00, 5.89889643e+00,\n",
              "       5.84476113e+00, 5.79112265e+00, 5.73797641e+00, 5.68531791e+00,\n",
              "       5.63314267e+00, 5.58144625e+00, 5.53022426e+00, 5.47947234e+00,\n",
              "       5.42918618e+00, 5.37936150e+00, 5.32999408e+00, 5.28107971e+00,\n",
              "       5.23261424e+00, 5.18459354e+00, 5.13701354e+00, 5.08987019e+00,\n",
              "       5.04315949e+00, 4.99687745e+00, 4.95102016e+00, 4.90558371e+00,\n",
              "       4.86056423e+00, 4.81595791e+00, 4.77176095e+00, 4.72796959e+00,\n",
              "       4.68458012e+00, 4.64158883e+00, 4.59899209e+00, 4.55678627e+00,\n",
              "       4.51496777e+00, 4.47353305e+00, 4.43247859e+00, 4.39180089e+00,\n",
              "       4.35149650e+00, 4.31156199e+00, 4.27199397e+00, 4.23278907e+00,\n",
              "       4.19394396e+00, 4.15545533e+00, 4.11731993e+00, 4.07953450e+00,\n",
              "       4.04209584e+00, 4.00500076e+00, 3.96824610e+00, 3.93182876e+00,\n",
              "       3.89574562e+00, 3.85999362e+00, 3.82456972e+00, 3.78947092e+00,\n",
              "       3.75469422e+00, 3.72023668e+00, 3.68609536e+00, 3.65226736e+00,\n",
              "       3.61874981e+00, 3.58553986e+00, 3.55263468e+00, 3.52003147e+00,\n",
              "       3.48772747e+00, 3.45571994e+00, 3.42400614e+00, 3.39258338e+00,\n",
              "       3.36144900e+00, 3.33060034e+00, 3.30003479e+00, 3.26974974e+00,\n",
              "       3.23974263e+00, 3.21001090e+00, 3.18055202e+00, 3.15136348e+00,\n",
              "       3.12244282e+00, 3.09378757e+00, 3.06539530e+00, 3.03726358e+00,\n",
              "       3.00939003e+00, 2.98177229e+00, 2.95440800e+00, 2.92729484e+00,\n",
              "       2.90043049e+00, 2.87381269e+00, 2.84743917e+00, 2.82130768e+00,\n",
              "       2.79541600e+00, 2.76976194e+00, 2.74434330e+00, 2.71915794e+00,\n",
              "       2.69420371e+00, 2.66947849e+00, 2.64498018e+00, 2.62070670e+00,\n",
              "       2.59665597e+00, 2.57282597e+00, 2.54921465e+00, 2.52582003e+00,\n",
              "       2.50264010e+00, 2.47967289e+00, 2.45691646e+00, 2.43436887e+00,\n",
              "       2.41202821e+00, 2.38989257e+00, 2.36796007e+00, 2.34622885e+00,\n",
              "       2.32469706e+00, 2.30336287e+00, 2.28222447e+00, 2.26128007e+00,\n",
              "       2.24052787e+00, 2.21996612e+00, 2.19959307e+00, 2.17940698e+00,\n",
              "       2.15940615e+00, 2.13958887e+00, 2.11995346e+00, 2.10049824e+00,\n",
              "       2.08122157e+00, 2.06212180e+00, 2.04319732e+00, 2.02444651e+00,\n",
              "       2.00586778e+00, 1.98745955e+00, 1.96922026e+00, 1.95114835e+00,\n",
              "       1.93324229e+00, 1.91550056e+00, 1.89792164e+00, 1.88050406e+00,\n",
              "       1.86324631e+00, 1.84614695e+00, 1.82920450e+00, 1.81241755e+00,\n",
              "       1.79578465e+00, 1.77930439e+00, 1.76297538e+00, 1.74679622e+00,\n",
              "       1.73076553e+00, 1.71488197e+00, 1.69914417e+00, 1.68355080e+00,\n",
              "       1.66810054e+00, 1.65279206e+00, 1.63762407e+00, 1.62259529e+00,\n",
              "       1.60770442e+00, 1.59295021e+00, 1.57833141e+00, 1.56384676e+00,\n",
              "       1.54949504e+00, 1.53527503e+00, 1.52118552e+00, 1.50722531e+00,\n",
              "       1.49339322e+00, 1.47968806e+00, 1.46610868e+00, 1.45265393e+00,\n",
              "       1.43932264e+00, 1.42611371e+00, 1.41302599e+00, 1.40005838e+00,\n",
              "       1.38720978e+00, 1.37447909e+00, 1.36186524e+00, 1.34936714e+00,\n",
              "       1.33698374e+00, 1.32471399e+00, 1.31255684e+00, 1.30051125e+00,\n",
              "       1.28857621e+00, 1.27675070e+00, 1.26503372e+00, 1.25342427e+00,\n",
              "       1.24192135e+00, 1.23052400e+00, 1.21923125e+00, 1.20804213e+00,\n",
              "       1.19695570e+00, 1.18597101e+00, 1.17508713e+00, 1.16430313e+00,\n",
              "       1.15361810e+00, 1.14303113e+00, 1.13254132e+00, 1.12214777e+00,\n",
              "       1.11184960e+00, 1.10164595e+00, 1.09153594e+00, 1.08151870e+00,\n",
              "       1.07159340e+00, 1.06175918e+00, 1.05201522e+00, 1.04236067e+00,\n",
              "       1.03279473e+00, 1.02331658e+00, 1.01392541e+00, 1.00462042e+00,\n",
              "       9.95400829e-01, 9.86265846e-01, 9.77214697e-01, 9.68246612e-01,\n",
              "       9.59360829e-01, 9.50556592e-01, 9.41833153e-01, 9.33189772e-01,\n",
              "       9.24625712e-01, 9.16140246e-01, 9.07732653e-01, 8.99402217e-01,\n",
              "       8.91148232e-01, 8.82969996e-01, 8.74866812e-01, 8.66837993e-01,\n",
              "       8.58882856e-01, 8.51000725e-01, 8.43190929e-01, 8.35452806e-01,\n",
              "       8.27785697e-01, 8.20188950e-01, 8.12661920e-01, 8.05203967e-01,\n",
              "       7.97814457e-01, 7.90492762e-01, 7.83238260e-01, 7.76050334e-01,\n",
              "       7.68928372e-01, 7.61871770e-01, 7.54879928e-01, 7.47952252e-01,\n",
              "       7.41088152e-01, 7.34287045e-01, 7.27548353e-01, 7.20871503e-01,\n",
              "       7.14255929e-01, 7.07701066e-01, 7.01206359e-01, 6.94771255e-01,\n",
              "       6.88395207e-01, 6.82077673e-01, 6.75818117e-01, 6.69616005e-01,\n",
              "       6.63470812e-01, 6.57382014e-01, 6.51349095e-01, 6.45371540e-01,\n",
              "       6.39448843e-01, 6.33580499e-01, 6.27766011e-01, 6.22004883e-01,\n",
              "       6.16296626e-01, 6.10640754e-01, 6.05036788e-01, 5.99484250e-01,\n",
              "       5.93982669e-01, 5.88531578e-01, 5.83130511e-01, 5.77779012e-01,\n",
              "       5.72476624e-01, 5.67222897e-01, 5.62017385e-01, 5.56859644e-01,\n",
              "       5.51749238e-01, 5.46685730e-01, 5.41668691e-01, 5.36697695e-01,\n",
              "       5.31772318e-01, 5.26892142e-01, 5.22056753e-01, 5.17265739e-01,\n",
              "       5.12518693e-01, 5.07815211e-01, 5.03154895e-01, 4.98537346e-01,\n",
              "       4.93962174e-01, 4.89428990e-01, 4.84937407e-01, 4.80487044e-01,\n",
              "       4.76077523e-01, 4.71708469e-01, 4.67379511e-01, 4.63090280e-01,\n",
              "       4.58840413e-01, 4.54629547e-01, 4.50457325e-01, 4.46323393e-01,\n",
              "       4.42227398e-01, 4.38168993e-01, 4.34147833e-01, 4.30163576e-01,\n",
              "       4.26215883e-01, 4.22304419e-01, 4.18428851e-01, 4.14588850e-01,\n",
              "       4.10784089e-01, 4.07014245e-01, 4.03278998e-01, 3.99578030e-01,\n",
              "       3.95911027e-01, 3.92277676e-01, 3.88677669e-01, 3.85110700e-01,\n",
              "       3.81576466e-01, 3.78074666e-01, 3.74605003e-01, 3.71167182e-01,\n",
              "       3.67760910e-01, 3.64385898e-01, 3.61041860e-01, 3.57728510e-01,\n",
              "       3.54445567e-01, 3.51192753e-01, 3.47969790e-01, 3.44776405e-01,\n",
              "       3.41612327e-01, 3.38477286e-01, 3.35371015e-01, 3.32293252e-01,\n",
              "       3.29243733e-01, 3.26222201e-01, 3.23228398e-01, 3.20262069e-01,\n",
              "       3.17322963e-01, 3.14410830e-01, 3.11525422e-01, 3.08666494e-01,\n",
              "       3.05833803e-01, 3.03027108e-01, 3.00246171e-01, 2.97490755e-01,\n",
              "       2.94760626e-01, 2.92055551e-01, 2.89375302e-01, 2.86719650e-01,\n",
              "       2.84088369e-01, 2.81481236e-01, 2.78898029e-01, 2.76338529e-01,\n",
              "       2.73802518e-01, 2.71289780e-01, 2.68800102e-01, 2.66333273e-01,\n",
              "       2.63889081e-01, 2.61467321e-01, 2.59067786e-01, 2.56690272e-01,\n",
              "       2.54334576e-01, 2.52000499e-01, 2.49687843e-01, 2.47396410e-01,\n",
              "       2.45126006e-01, 2.42876438e-01, 2.40647515e-01, 2.38439047e-01,\n",
              "       2.36250847e-01, 2.34082728e-01, 2.31934506e-01, 2.29805999e-01,\n",
              "       2.27697026e-01, 2.25607407e-01, 2.23536965e-01, 2.21485523e-01,\n",
              "       2.19452909e-01, 2.17438948e-01, 2.15443469e-01, 2.13466303e-01,\n",
              "       2.11507282e-01, 2.09566240e-01, 2.07643011e-01, 2.05737431e-01,\n",
              "       2.03849340e-01, 2.01978576e-01, 2.00124980e-01, 1.98288395e-01,\n",
              "       1.96468665e-01, 1.94665634e-01, 1.92879151e-01, 1.91109062e-01,\n",
              "       1.89355218e-01, 1.87617469e-01, 1.85895668e-01, 1.84189668e-01,\n",
              "       1.82499324e-01, 1.80824493e-01, 1.79165033e-01, 1.77520801e-01,\n",
              "       1.75891659e-01, 1.74277468e-01, 1.72678090e-01, 1.71093391e-01,\n",
              "       1.69523234e-01, 1.67967487e-01, 1.66426018e-01, 1.64898694e-01,\n",
              "       1.63385388e-01, 1.61885969e-01, 1.60400311e-01, 1.58928287e-01,\n",
              "       1.57469771e-01, 1.56024641e-01, 1.54592774e-01, 1.53174046e-01,\n",
              "       1.51768339e-01, 1.50375532e-01, 1.48995507e-01, 1.47628147e-01,\n",
              "       1.46273336e-01, 1.44930957e-01, 1.43600898e-01, 1.42283046e-01,\n",
              "       1.40977287e-01, 1.39683512e-01, 1.38401610e-01, 1.37131472e-01,\n",
              "       1.35872990e-01, 1.34626058e-01, 1.33390569e-01, 1.32166418e-01,\n",
              "       1.30953502e-01, 1.29751717e-01, 1.28560961e-01, 1.27381132e-01,\n",
              "       1.26212131e-01, 1.25053859e-01, 1.23906216e-01, 1.22769105e-01,\n",
              "       1.21642429e-01, 1.20526094e-01, 1.19420003e-01, 1.18324063e-01,\n",
              "       1.17238180e-01, 1.16162263e-01, 1.15096220e-01, 1.14039960e-01,\n",
              "       1.12993394e-01, 1.11956432e-01, 1.10928986e-01, 1.09910970e-01,\n",
              "       1.08902296e-01, 1.07902879e-01, 1.06912634e-01, 1.05931476e-01,\n",
              "       1.04959323e-01, 1.03996091e-01, 1.03041699e-01, 1.02096066e-01,\n",
              "       1.01159111e-01, 1.00230755e-01, 9.93109181e-02, 9.83995230e-02,\n",
              "       9.74964918e-02, 9.66017480e-02, 9.57152154e-02, 9.48368187e-02,\n",
              "       9.39664831e-02, 9.31041349e-02, 9.22497005e-02, 9.14031075e-02,\n",
              "       9.05642838e-02, 8.97331581e-02, 8.89096599e-02, 8.80937190e-02,\n",
              "       8.72852662e-02, 8.64842328e-02, 8.56905505e-02, 8.49041520e-02,\n",
              "       8.41249705e-02, 8.33529397e-02, 8.25879939e-02, 8.18300682e-02,\n",
              "       8.10790981e-02, 8.03350198e-02, 7.95977700e-02, 7.88672862e-02,\n",
              "       7.81435061e-02, 7.74263683e-02, 7.67158118e-02, 7.60117762e-02,\n",
              "       7.53142017e-02, 7.46230289e-02, 7.39381992e-02, 7.32596543e-02,\n",
              "       7.25873365e-02, 7.19211887e-02, 7.12611543e-02, 7.06071771e-02,\n",
              "       6.99592017e-02, 6.93171728e-02, 6.86810359e-02, 6.80507370e-02,\n",
              "       6.74262224e-02, 6.68074392e-02, 6.61943346e-02, 6.55868566e-02,\n",
              "       6.49849535e-02, 6.43885743e-02, 6.37976681e-02, 6.32121848e-02,\n",
              "       6.26320745e-02, 6.20572881e-02, 6.14877765e-02, 6.09234915e-02,\n",
              "       6.03643851e-02, 5.98104096e-02, 5.92615181e-02, 5.87176639e-02,\n",
              "       5.81788007e-02, 5.76448828e-02, 5.71158648e-02, 5.65917016e-02,\n",
              "       5.60723488e-02, 5.55577622e-02, 5.50478981e-02, 5.45427131e-02,\n",
              "       5.40421642e-02, 5.35462090e-02, 5.30548053e-02, 5.25679112e-02,\n",
              "       5.20854855e-02, 5.16074871e-02, 5.11338754e-02, 5.06646101e-02,\n",
              "       5.01996513e-02, 4.97389596e-02, 4.92824957e-02, 4.88302209e-02,\n",
              "       4.83820966e-02, 4.79380850e-02, 4.74981480e-02, 4.70622485e-02,\n",
              "       4.66303493e-02, 4.62024137e-02, 4.57784054e-02, 4.53582883e-02,\n",
              "       4.49420266e-02, 4.45295851e-02, 4.41209286e-02, 4.37160225e-02,\n",
              "       4.33148322e-02, 4.29173238e-02, 4.25234633e-02, 4.21332174e-02,\n",
              "       4.17465529e-02, 4.13634368e-02, 4.09838367e-02, 4.06077203e-02,\n",
              "       4.02350555e-02, 3.98658107e-02, 3.94999546e-02, 3.91374560e-02,\n",
              "       3.87782841e-02, 3.84224085e-02, 3.80697987e-02, 3.77204249e-02,\n",
              "       3.73742574e-02, 3.70312668e-02, 3.66914238e-02, 3.63546996e-02,\n",
              "       3.60210656e-02, 3.56904935e-02, 3.53629550e-02, 3.50384225e-02,\n",
              "       3.47168682e-02, 3.43982649e-02, 3.40825855e-02, 3.37698031e-02,\n",
              "       3.34598912e-02, 3.31528234e-02, 3.28485737e-02, 3.25471161e-02,\n",
              "       3.22484250e-02, 3.19524751e-02, 3.16592411e-02, 3.13686982e-02,\n",
              "       3.10808217e-02, 3.07955871e-02, 3.05129702e-02, 3.02329468e-02,\n",
              "       2.99554933e-02, 2.96805861e-02, 2.94082017e-02, 2.91383170e-02,\n",
              "       2.88709092e-02, 2.86059554e-02, 2.83434331e-02, 2.80833200e-02,\n",
              "       2.78255940e-02, 2.75702333e-02, 2.73172160e-02, 2.70665207e-02,\n",
              "       2.68181261e-02, 2.65720111e-02, 2.63281547e-02, 2.60865362e-02,\n",
              "       2.58471351e-02, 2.56099310e-02, 2.53749038e-02, 2.51420335e-02,\n",
              "       2.49113003e-02, 2.46826845e-02, 2.44561668e-02, 2.42317279e-02,\n",
              "       2.40093488e-02, 2.37890104e-02, 2.35706941e-02, 2.33543814e-02,\n",
              "       2.31400538e-02, 2.29276931e-02, 2.27172813e-02, 2.25088005e-02,\n",
              "       2.23022330e-02, 2.20975611e-02, 2.18947676e-02, 2.16938352e-02,\n",
              "       2.14947467e-02, 2.12974854e-02, 2.11020343e-02, 2.09083769e-02,\n",
              "       2.07164968e-02, 2.05263775e-02, 2.03380031e-02, 2.01513573e-02,\n",
              "       1.99664245e-02, 1.97831888e-02, 1.96016347e-02, 1.94217468e-02,\n",
              "       1.92435098e-02, 1.90669084e-02, 1.88919278e-02, 1.87185529e-02,\n",
              "       1.85467692e-02, 1.83765620e-02, 1.82079168e-02, 1.80408193e-02,\n",
              "       1.78752553e-02, 1.77112106e-02, 1.75486715e-02, 1.73876240e-02,\n",
              "       1.72280545e-02, 1.70699493e-02, 1.69132952e-02, 1.67580786e-02,\n",
              "       1.66042866e-02, 1.64519059e-02, 1.63009236e-02, 1.61513269e-02,\n",
              "       1.60031031e-02, 1.58562396e-02, 1.57107239e-02, 1.55665436e-02,\n",
              "       1.54236865e-02, 1.52821404e-02, 1.51418933e-02, 1.50029332e-02,\n",
              "       1.48652484e-02, 1.47288272e-02, 1.45936580e-02, 1.44597292e-02,\n",
              "       1.43270295e-02, 1.41955477e-02, 1.40652724e-02, 1.39361927e-02,\n",
              "       1.38082977e-02, 1.36815763e-02, 1.35560179e-02, 1.34316117e-02,\n",
              "       1.33083472e-02, 1.31862140e-02, 1.30652016e-02, 1.29452998e-02,\n",
              "       1.28264983e-02, 1.27087871e-02, 1.25921561e-02, 1.24765955e-02,\n",
              "       1.23620954e-02, 1.22486461e-02, 1.21362380e-02, 1.20248614e-02,\n",
              "       1.19145070e-02, 1.18051653e-02, 1.16968270e-02, 1.15894830e-02,\n",
              "       1.14831241e-02, 1.13777413e-02, 1.12733256e-02, 1.11698682e-02,\n",
              "       1.10673602e-02, 1.09657929e-02, 1.08651577e-02, 1.07654461e-02,\n",
              "       1.06666496e-02, 1.05687597e-02, 1.04717682e-02, 1.03756668e-02,\n",
              "       1.02804473e-02, 1.01861017e-02, 1.00926219e-02, 1.00000000e-02])"
            ]
          },
          "metadata": {},
          "execution_count": 30
        }
      ]
    },
    {
      "cell_type": "code",
      "source": [
        "modelcv.coef_"
      ],
      "metadata": {
        "id": "0IeKsEaT62gB",
        "colab": {
          "base_uri": "https://localhost:8080/"
        },
        "outputId": "09152cd1-13d0-46a3-84e3-16dee6447d5e"
      },
      "execution_count": null,
      "outputs": [
        {
          "output_type": "execute_result",
          "data": {
            "text/plain": [
              "array([-0.10091564,  0.05547719, -0.05184478,  0.39151473, -0.12582305,\n",
              "        1.73637829,  0.00837755, -1.06739416,  0.32670058, -0.01638688,\n",
              "       -0.8296388 ,  0.0089952 , -0.70221434])"
            ]
          },
          "metadata": {},
          "execution_count": 31
        }
      ]
    },
    {
      "cell_type": "markdown",
      "source": [
        "Plot the model for different alphas"
      ],
      "metadata": {
        "id": "9mCTI8Oefc8w"
      }
    },
    {
      "cell_type": "code",
      "source": [
        "n_alphas = 1000\n",
        "alphas = np.logspace(-2, 2, n_alphas)\n",
        "coefs = []\n",
        "for a in alphas:\n",
        "    ELN = linear_model.ElasticNet(l1_ratio=.01,alpha=a, fit_intercept=False)\n",
        "    ELN.fit(X_train, y_train)\n",
        "    coefs.append(ELN.coef_)"
      ],
      "metadata": {
        "id": "_9hG7BmslUvZ"
      },
      "execution_count": null,
      "outputs": []
    },
    {
      "cell_type": "code",
      "source": [
        "ax = plt.gca()\n",
        "\n",
        "ax.plot(alphas, coefs)\n",
        "ax.set_xscale(\"log\")\n",
        "ax.set_xlim(ax.get_xlim()[::-1])  # reverse axis\n",
        "plt.xlabel(\"alpha\")\n",
        "plt.ylabel(\"weights\")\n",
        "plt.title(\"Ridge coefficients as a function of the regularization\")\n",
        "plt.axis(\"tight\")\n",
        "plt.show()"
      ],
      "metadata": {
        "colab": {
          "base_uri": "https://localhost:8080/",
          "height": 476
        },
        "id": "g1dcWw8tptWl",
        "outputId": "880a6a96-24e1-4549-e918-13b207492057"
      },
      "execution_count": null,
      "outputs": [
        {
          "output_type": "display_data",
          "data": {
            "text/plain": [
              "<Figure size 640x480 with 1 Axes>"
            ],
            "image/png": "[encoded data removed]"
          },
          "metadata": {}
        }
      ]
    },
    {
      "cell_type": "markdown",
      "source": [
        "#Using the best learning rate, we apply the model"
      ],
      "metadata": {
        "id": "O7RTvEV34rtQ"
      }
    },
    {
      "cell_type": "code",
      "source": [
        "model2 = linear_model.ElasticNet(alpha=dg, l1_ratio=.01,  max_iter=1000, copy_X=True, tol=0.001)\n",
        "model2.fit(X, y)"
      ],
      "metadata": {
        "colab": {
          "base_uri": "https://localhost:8080/",
          "height": 74
        },
        "id": "KsMgQZ0SEGz3",
        "outputId": "4deaba0e-d235-461a-8790-92e8422fbe94"
      },
      "execution_count": null,
      "outputs": [
        {
          "output_type": "execute_result",
          "data": {
            "text/plain": [
              "ElasticNet(alpha=0.007920659761442617, l1_ratio=0.01, tol=0.001)"
            ],
            "text/html": [
              "<style>#sk-container-id-5 {color: black;background-color: white;}#sk-container-id-5 pre{padding: 0;}#sk-container-id-5 div.sk-toggleable {background-color: white;}#sk-container-id-5 label.sk-toggleable__label {cursor: pointer;display: block;width: 100%;margin-bottom: 0;padding: 0.3em;box-sizing: border-box;text-align: center;}#sk-container-id-5 label.sk-toggleable__label-arrow:before {content: \"▸\";float: left;margin-right: 0.25em;color: #696969;}#sk-container-id-5 label.sk-toggleable__label-arrow:hover:before {color: black;}#sk-container-id-5 div.sk-estimator:hover label.sk-toggleable__label-arrow:before {color: black;}#sk-container-id-5 div.sk-toggleable__content {max-height: 0;max-width: 0;overflow: hidden;text-align: left;background-color: #f0f8ff;}#sk-container-id-5 div.sk-toggleable__content pre {margin: 0.2em;color: black;border-radius: 0.25em;background-color: #f0f8ff;}#sk-container-id-5 input.sk-toggleable__control:checked~div.sk-toggleable__content {max-height: 200px;max-width: 100%;overflow: auto;}#sk-container-id-5 input.sk-toggleable__control:checked~label.sk-toggleable__label-arrow:before {content: \"▾\";}#sk-container-id-5 div.sk-estimator input.sk-toggleable__control:checked~label.sk-toggleable__label {background-color: #d4ebff;}#sk-container-id-5 div.sk-label input.sk-toggleable__control:checked~label.sk-toggleable__label {background-color: #d4ebff;}#sk-container-id-5 input.sk-hidden--visually {border: 0;clip: rect(1px 1px 1px 1px);clip: rect(1px, 1px, 1px, 1px);height: 1px;margin: -1px;overflow: hidden;padding: 0;position: absolute;width: 1px;}#sk-container-id-5 div.sk-estimator {font-family: monospace;background-color: #f0f8ff;border: 1px dotted black;border-radius: 0.25em;box-sizing: border-box;margin-bottom: 0.5em;}#sk-container-id-5 div.sk-estimator:hover {background-color: #d4ebff;}#sk-container-id-5 div.sk-parallel-item::after {content: \"\";width: 100%;border-bottom: 1px solid gray;flex-grow: 1;}#sk-container-id-5 div.sk-label:hover label.sk-toggleable__label {background-color: #d4ebff;}#sk-container-id-5 div.sk-serial::before {content: \"\";position: absolute;border-left: 1px solid gray;box-sizing: border-box;top: 0;bottom: 0;left: 50%;z-index: 0;}#sk-container-id-5 div.sk-serial {display: flex;flex-direction: column;align-items: center;background-color: white;padding-right: 0.2em;padding-left: 0.2em;position: relative;}#sk-container-id-5 div.sk-item {position: relative;z-index: 1;}#sk-container-id-5 div.sk-parallel {display: flex;align-items: stretch;justify-content: center;background-color: white;position: relative;}#sk-container-id-5 div.sk-item::before, #sk-container-id-5 div.sk-parallel-item::before {content: \"\";position: absolute;border-left: 1px solid gray;box-sizing: border-box;top: 0;bottom: 0;left: 50%;z-index: -1;}#sk-container-id-5 div.sk-parallel-item {display: flex;flex-direction: column;z-index: 1;position: relative;background-color: white;}#sk-container-id-5 div.sk-parallel-item:first-child::after {align-self: flex-end;width: 50%;}#sk-container-id-5 div.sk-parallel-item:last-child::after {align-self: flex-start;width: 50%;}#sk-container-id-5 div.sk-parallel-item:only-child::after {width: 0;}#sk-container-id-5 div.sk-dashed-wrapped {border: 1px dashed gray;margin: 0 0.4em 0.5em 0.4em;box-sizing: border-box;padding-bottom: 0.4em;background-color: white;}#sk-container-id-5 div.sk-label label {font-family: monospace;font-weight: bold;display: inline-block;line-height: 1.2em;}#sk-container-id-5 div.sk-label-container {text-align: center;}#sk-container-id-5 div.sk-container {/* jupyter's `normalize.less` sets `[hidden] { display: none; }` but bootstrap.min.css set `[hidden] { display: none !important; }` so we also need the `!important` here to be able to override the default hidden behavior on the sphinx rendered scikit-learn.org. See: https://github.com/scikit-learn/scikit-learn/issues/21755 */display: inline-block !important;position: relative;}#sk-container-id-5 div.sk-text-repr-fallback {display: none;}</style><div id=\"sk-container-id-5\" class=\"sk-top-container\"><div class=\"sk-text-repr-fallback\"><pre>ElasticNet(alpha=0.007920659761442617, l1_ratio=0.01, tol=0.001)</pre><b>In a Jupyter environment, please rerun this cell to show the HTML representation or trust the notebook. <br />On GitHub, the HTML representation is unable to render, please try loading this page with nbviewer.org.</b></div><div class=\"sk-container\" hidden><div class=\"sk-item\"><div class=\"sk-estimator sk-toggleable\"><input class=\"sk-toggleable__control sk-hidden--visually\" id=\"sk-estimator-id-5\" type=\"checkbox\" checked><label for=\"sk-estimator-id-5\" class=\"sk-toggleable__label sk-toggleable__label-arrow\">ElasticNet</label><div class=\"sk-toggleable__content\"><pre>ElasticNet(alpha=0.007920659761442617, l1_ratio=0.01, tol=0.001)</pre></div></div></div></div></div>"
            ]
          },
          "metadata": {},
          "execution_count": 34
        }
      ]
    },
    {
      "cell_type": "markdown",
      "source": [
        "#Output"
      ],
      "metadata": {
        "id": "NgnLA2NA40u_"
      }
    },
    {
      "cell_type": "code",
      "source": [
        "print(model2.n_features_in_)\n",
        "print(model2.intercept_)\n",
        "print(model2.coef_)"
      ],
      "metadata": {
        "colab": {
          "base_uri": "https://localhost:8080/"
        },
        "id": "Ynl3AO5pEpgG",
        "outputId": "6db432c5-40d4-4c26-bd88-22617b75ed62"
      },
      "execution_count": null,
      "outputs": [
        {
          "output_type": "stream",
          "name": "stdout",
          "text": [
            "13\n",
            "28.05226773371799\n",
            "[-0.10205865  0.04855993 -0.03277249  2.29834514 -4.96328767  3.83211512\n",
            " -0.00989355 -1.28723443  0.27951505 -0.01351134 -0.81662214  0.00995611\n",
            " -0.54504738]\n"
          ]
        }
      ]
    },
    {
      "cell_type": "markdown",
      "source": [
        "#Prediction"
      ],
      "metadata": {
        "id": "hX9j_yDW46_g"
      }
    },
    {
      "cell_type": "code",
      "source": [
        "prediction=model2.predict(X)\n",
        "prediction"
      ],
      "metadata": {
        "id": "IDQBJh1148Gf",
        "colab": {
          "base_uri": "https://localhost:8080/"
        },
        "outputId": "0b7644fc-98d7-4693-97d1-7ce4bd01c0c0"
      },
      "execution_count": null,
      "outputs": [
        {
          "output_type": "execute_result",
          "data": {
            "text/plain": [
              "array([30.48914247, 24.64484543, 30.49335945, 29.15961462, 28.36368753,\n",
              "       25.61326838, 22.96026448, 19.12400431, 10.85817874, 18.76852648,\n",
              "       18.65702526, 21.48207268, 21.06396543, 20.44765834, 19.8435495 ,\n",
              "       20.20134231, 21.75678298, 17.3760637 , 17.01888597, 18.97833529,\n",
              "       12.58632316, 18.03066641, 16.06918534, 13.94317812, 16.00856687,\n",
              "       13.74665335, 15.90366532, 15.03233898, 19.96453641, 21.34514457,\n",
              "       11.60170607, 18.34639729,  8.86088638, 14.42104437, 13.71974649,\n",
              "       23.73370863, 22.28689619, 23.4354204 , 23.31810505, 31.64894965,\n",
              "       34.62699142, 28.41186286, 25.52171414, 24.90381562, 22.8314362 ,\n",
              "       21.91854247, 20.17281366, 17.25316212,  7.99855381, 16.7923201 ,\n",
              "       21.04880717, 23.64001981, 27.86215134, 24.17679576, 15.35310803,\n",
              "       31.79562924, 25.40823695, 33.19316484, 22.49606059, 21.3997836 ,\n",
              "       17.95680162, 18.19874969, 24.20181656, 23.11888991, 23.81070528,\n",
              "       30.08825388, 24.9923904 , 20.92576459, 16.96424157, 20.46143952,\n",
              "       24.83424056, 21.18180944, 24.19866057, 23.65588968, 24.94727717,\n",
              "       22.99268288, 21.50634081, 22.26879339, 20.22359968, 21.53863482,\n",
              "       28.35750529, 26.51362278, 25.96276357, 24.809169  , 24.62968549,\n",
              "       27.55064382, 21.90338446, 25.46738148, 30.42989199, 30.8275956 ,\n",
              "       26.9427053 , 27.16669389, 28.14176468, 28.5782567 , 25.92746848,\n",
              "       28.12343736, 24.01771284, 35.19447994, 34.9463757 , 31.75180846,\n",
              "       24.52586524, 25.68259521, 19.42566939, 20.0715378 , 21.13346872,\n",
              "       18.01831038, 16.69285432, 20.40383778, 22.28363851, 19.41719497,\n",
              "       20.7797086 , 26.18294999, 20.10878937, 20.04919454, 24.70205189,\n",
              "       19.81372468, 23.0891369 , 23.3314144 , 19.88418674, 20.54361957,\n",
              "       21.68319443, 22.07178799, 19.96931337, 15.54953847, 19.93318836,\n",
              "       21.99242146, 13.73091689, 15.21157027, 19.00282883, 14.12059394,\n",
              "       20.21208356, 19.63860408, 20.3122757 , 15.97051023, 13.28878342,\n",
              "       17.35538876, 15.97419306, 19.45212735, 13.72156492, 16.42818961,\n",
              "       13.46328657,  3.56047209, 16.34288703, 14.31630654, 10.82794868,\n",
              "       14.03687761, 18.05157927, 10.64843531, 11.89269281, 17.11400294,\n",
              "       23.30794088, 20.71641869, 22.29407121, 19.63167416, 24.4301287 ,\n",
              "       22.17400924, 15.9091233 , 32.57387795, 28.23181785, 28.17408227,\n",
              "       31.62051103, 36.25490627, 39.59941343, 40.93912368, 24.1238022 ,\n",
              "       24.62204275, 36.61044221, 22.43652483, 25.5901868 , 25.90090447,\n",
              "       21.73280925, 23.52427958, 22.29636586, 28.57999615, 26.17741578,\n",
              "       30.93663728, 25.65436884, 28.93852799, 31.14713099, 32.97198341,\n",
              "       34.45943566, 27.62342976, 33.56232332, 30.62963558, 22.2497491 ,\n",
              "       24.60169755, 36.08331528, 32.5416009 , 31.83355211, 33.83888496,\n",
              "       30.61770456, 30.05872897, 32.78351142, 31.96623619, 31.31616477,\n",
              "       40.63608577, 35.60899132, 32.00071271, 34.08665481, 30.33035351,\n",
              "       30.89325134, 28.81473016, 36.9601447 , 41.60699927, 42.79969757,\n",
              "       22.75311011, 23.50993767, 17.30842623, 22.75134917, 15.5861562 ,\n",
              "       21.18469379, 15.70368592, 21.91478663, 25.21020714, 10.82718948,\n",
              "       24.39361819, 25.98740768, 27.97219784, 23.77216849, 28.80544987,\n",
              "       32.15857847, 22.50106387, 31.30118912, 29.30767085, 37.94724607,\n",
              "       39.34065223, 37.15334955, 31.94196421, 35.75891124, 31.47048983,\n",
              "       24.10883225, 32.97938237, 37.93101508, 37.00380451, 31.07883231,\n",
              "       25.01167865, 29.43897182, 32.61375262, 28.27856051, 28.01507926,\n",
              "       26.70893147, 23.00706028, 23.66106051, 27.54501579, 16.00051347,\n",
              "       13.02752093, 20.23906042, 19.5882057 , 21.30645308, 24.51135909,\n",
              "       24.61408147, 25.52714302, 25.72902972, 30.77552576, 24.05005757,\n",
              "       21.85200339, 37.12167402, 44.10011952, 37.07179979, 35.61259646,\n",
              "       35.59990542, 37.93030465, 41.80492052, 35.06459656, 36.51094117,\n",
              "       29.15806425, 31.87493138, 40.98333431, 39.77088382, 24.90909859,\n",
              "       22.20523124, 27.52189597, 28.26697989, 35.04819056, 35.52289245,\n",
              "       33.54603033, 34.94612326, 34.44695426, 30.09683331, 34.82141434,\n",
              "       38.11644927, 34.01006743, 39.52907265, 43.94435598, 31.47484525,\n",
              "       26.90024669, 20.34331557, 26.70049883, 26.7137696 , 26.60494568,\n",
              "       33.42628304, 34.39824364, 31.8387552 , 25.05515023, 23.3745858 ,\n",
              "       27.70612669, 26.3718424 , 18.35688376, 28.85769689, 31.78431186,\n",
              "       30.23104174, 28.26178181, 28.44106425, 32.45801192, 33.45388951,\n",
              "       30.65582057, 35.32288869, 32.46797027, 28.77877668, 23.62069763,\n",
              "       18.78337912, 27.16323183, 23.08193225, 25.58868501, 25.52116075,\n",
              "       20.68078523, 17.57206016, 18.50923592, 24.5041492 , 21.66308497,\n",
              "       25.15084838, 25.11789335, 23.17536979, 19.40529489, 25.56773824,\n",
              "       25.5359987 , 24.37695574, 19.74023468, 21.05616917, 24.28456999,\n",
              "       21.54589278, 19.93077123, 23.41916707, 23.49351391, 22.88164939,\n",
              "       21.87173034, 21.10693344, 20.14616451, 23.15896778, 22.13017573,\n",
              "       22.18002806, 30.43053438, 22.5824784 , 27.98161899, 29.31114134,\n",
              "       16.79275226, 14.93174117, 25.82039609, 28.18190679, 23.09053811,\n",
              "       21.28972837, 21.2520258 , 17.72251944, 26.49882635, 15.74171587,\n",
              "       18.08955312, 20.51054074, 23.80157724, 23.4481528 , 20.78873719,\n",
              "       24.2768241 , 20.31510585, 19.601374  , 21.15966617, 38.07389241,\n",
              "       14.99517059, 16.10684555, 10.07379683, 23.34427091, 31.87070885,\n",
              "       33.83598416, 24.37635423, 25.60891951,  5.52378978,  0.13023523,\n",
              "       25.32892159, 17.55532074, 20.02480852, 15.68156748, 16.64196117,\n",
              "       14.80288106, 18.32980147, 13.54056459, 13.13880459,  3.28335719,\n",
              "        8.05749841,  6.19588456,  5.72867953,  6.42473979, 14.40637375,\n",
              "       17.54285094, 17.78217503, 10.0324195 , 20.5449623 , 18.2389059 ,\n",
              "       20.51409044, 19.46477226, 16.44910338,  6.58772364, 10.97764287,\n",
              "       11.94642225, 17.94837701, 18.37065954, 13.23463711,  7.63331896,\n",
              "        8.56301249,  7.60404752, 19.72430279, 12.38162766, 18.62303951,\n",
              "       14.25992154, 15.61389151,  0.08901877, 10.66063147, -4.51875995,\n",
              "        9.19982874, 13.10426126,  6.72684663,  6.24135234, 15.07613547,\n",
              "       20.15031743, 18.68106375, 17.87904321, 12.1799765 , 13.53161139,\n",
              "        9.65933602, 15.42429243, 14.32278637, 14.25284602, 12.79927234,\n",
              "       16.95620124, 17.38924957, 20.58405049, 17.53441496, 16.4372277 ,\n",
              "       14.0038812 , 15.22252863,  9.249412  ,  5.27871064, 13.81794309,\n",
              "       13.57495811, 18.13980429, 19.58111347, 18.87455567, 12.15908088,\n",
              "       12.52444999, 18.50684855, 19.0644426 , 18.06599181, 17.67563395,\n",
              "       16.90204704, 19.95209156, 19.21001255, 23.10182445, 15.67044825,\n",
              "       16.28785384, 13.11003918, 13.47460961, 17.94272219, 19.34958812,\n",
              "       19.67959838, 20.92408476, 20.64797373, 23.31540454, 20.70013408,\n",
              "       18.37208502, 14.18294922, 15.80047231, 16.25717475, 18.06382252,\n",
              "       19.3202486 , 21.5250699 , 21.71659742, 25.34544241, 15.30089441,\n",
              "       14.81098887, 19.84566372, 10.65353711, 18.48541921, 21.32155906,\n",
              "       22.40824346, 25.98194455, 27.46893539, 20.38404658, 19.24702352,\n",
              "       22.04372757, 19.01903851, 20.95493385, 10.93181776,  7.07473511,\n",
              "        2.39133729, 12.78747147, 15.26724575, 21.20388877, 21.28388889,\n",
              "       17.69143392, 14.27732104, 19.56642123, 21.74973169, 18.76279677,\n",
              "       20.75621637, 24.27583103, 23.00627427, 28.17293722, 26.71014569,\n",
              "       22.9946853 ])"
            ]
          },
          "metadata": {},
          "execution_count": 36
        }
      ]
    },
    {
      "cell_type": "markdown",
      "source": [
        "#Evaluation metrics"
      ],
      "metadata": {
        "id": "L2QkWvvV9YOx"
      }
    },
    {
      "cell_type": "code",
      "source": [
        "from sklearn.metrics import mean_squared_error,mean_absolute_error,median_absolute_error\n",
        "from sklearn.metrics import mean_squared_log_error,r2_score,max_error"
      ],
      "metadata": {
        "id": "3vdHfLw4DplS"
      },
      "execution_count": null,
      "outputs": []
    },
    {
      "cell_type": "code",
      "source": [
        "\n",
        "#mean_squared_log_error(y_test, prediction) #Mean squared logarithmic error regression loss.\n",
        "\n",
        "print(r2_score(y, prediction)) # (coefficient of determination) regression score function.\n",
        "max_error(y, prediction) #The max_error metric calculates the maximum residual error."
      ],
      "metadata": {
        "colab": {
          "base_uri": "https://localhost:8080/"
        },
        "id": "Aj70S5dCE3rw",
        "outputId": "5a703a1d-2a74-4300-d49c-4894e229fec6"
      },
      "execution_count": null,
      "outputs": [
        {
          "output_type": "stream",
          "name": "stdout",
          "text": [
            "0.7346200473018302\n"
          ]
        },
        {
          "output_type": "execute_result",
          "data": {
            "text/plain": [
              "26.65572908510074"
            ]
          },
          "metadata": {},
          "execution_count": 38
        }
      ]
    },
    {
      "cell_type": "markdown",
      "source": [
        "\n",
        "\n",
        "\n",
        "\n",
        "Accuracy"
      ],
      "metadata": {
        "id": "6j4RdgnXWH3b"
      }
    },
    {
      "cell_type": "code",
      "source": [
        "model2.score(X, y)"
      ],
      "metadata": {
        "colab": {
          "base_uri": "https://localhost:8080/"
        },
        "id": "POuNwM4VQNF7",
        "outputId": "4cee7e29-c6c9-41da-984d-45b46d8b2289"
      },
      "execution_count": null,
      "outputs": [
        {
          "output_type": "execute_result",
          "data": {
            "text/plain": [
              "0.7346200473018302"
            ]
          },
          "metadata": {},
          "execution_count": 39
        }
      ]
    },
    {
      "cell_type": "markdown",
      "source": [
        "## Finidng MSE"
      ],
      "metadata": {
        "id": "QS04_2Zv5Nnv"
      }
    },
    {
      "cell_type": "code",
      "source": [
        "# Mean Squared Error\n",
        "mean_squared_error(y,prediction)"
      ],
      "metadata": {
        "colab": {
          "base_uri": "https://localhost:8080/"
        },
        "id": "g5QhA_1B5CrR",
        "outputId": "f9157053-859c-4bc9-8a23-06f1a337471b"
      },
      "execution_count": null,
      "outputs": [
        {
          "output_type": "execute_result",
          "data": {
            "text/plain": [
              "22.403257819523706"
            ]
          },
          "metadata": {},
          "execution_count": 40
        }
      ]
    },
    {
      "cell_type": "code",
      "source": [
        "#RMSE\n",
        "\n",
        "\n",
        "math.sqrt(mean_squared_error(y,prediction))"
      ],
      "metadata": {
        "colab": {
          "base_uri": "https://localhost:8080/"
        },
        "id": "E3f2bguJStVE",
        "outputId": "5f235cf0-6dd6-4afd-ce83-0de04ed300db"
      },
      "execution_count": null,
      "outputs": [
        {
          "output_type": "execute_result",
          "data": {
            "text/plain": [
              "4.733207983970671"
            ]
          },
          "metadata": {},
          "execution_count": 41
        }
      ]
    },
    {
      "cell_type": "code",
      "source": [
        "#mean_absolute_error\n",
        "mean_absolute_error(y,prediction)"
      ],
      "metadata": {
        "colab": {
          "base_uri": "https://localhost:8080/"
        },
        "id": "U49qzgSNy6Kb",
        "outputId": "83e4daad-bd50-488a-c90e-e82184c13b47"
      },
      "execution_count": null,
      "outputs": [
        {
          "output_type": "execute_result",
          "data": {
            "text/plain": [
              "3.2915523521134085"
            ]
          },
          "metadata": {},
          "execution_count": 42
        }
      ]
    },
    {
      "cell_type": "code",
      "source": [
        "median_absolute_error(y,prediction)"
      ],
      "metadata": {
        "colab": {
          "base_uri": "https://localhost:8080/"
        },
        "id": "rh2srpcezzi_",
        "outputId": "cdd902eb-a6a2-4d53-809f-8ac4bcaeb330"
      },
      "execution_count": null,
      "outputs": [
        {
          "output_type": "execute_result",
          "data": {
            "text/plain": [
              "2.3370116597616644"
            ]
          },
          "metadata": {},
          "execution_count": 43
        }
      ]
    },
    {
      "cell_type": "markdown",
      "source": [
        "#Use the regularised peremether for model including test data"
      ],
      "metadata": {
        "id": "f_-7hXFIVk2Z"
      }
    },
    {
      "cell_type": "code",
      "source": [
        "model3 = linear_model.ElasticNet(alpha=dg, l1_ratio=.01,  max_iter=1000, copy_X=True, tol=0.001)\n",
        "model3.fit(X_train, y_train )"
      ],
      "metadata": {
        "colab": {
          "base_uri": "https://localhost:8080/",
          "height": 74
        },
        "id": "D40Kyj-VxlR1",
        "outputId": "f8dc7cdc-4f38-4e32-a890-3950d11930b7"
      },
      "execution_count": null,
      "outputs": [
        {
          "output_type": "execute_result",
          "data": {
            "text/plain": [
              "ElasticNet(alpha=0.007920659761442617, l1_ratio=0.01, tol=0.001)"
            ],
            "text/html": [
              "<style>#sk-container-id-6 {color: black;background-color: white;}#sk-container-id-6 pre{padding: 0;}#sk-container-id-6 div.sk-toggleable {background-color: white;}#sk-container-id-6 label.sk-toggleable__label {cursor: pointer;display: block;width: 100%;margin-bottom: 0;padding: 0.3em;box-sizing: border-box;text-align: center;}#sk-container-id-6 label.sk-toggleable__label-arrow:before {content: \"▸\";float: left;margin-right: 0.25em;color: #696969;}#sk-container-id-6 label.sk-toggleable__label-arrow:hover:before {color: black;}#sk-container-id-6 div.sk-estimator:hover label.sk-toggleable__label-arrow:before {color: black;}#sk-container-id-6 div.sk-toggleable__content {max-height: 0;max-width: 0;overflow: hidden;text-align: left;background-color: #f0f8ff;}#sk-container-id-6 div.sk-toggleable__content pre {margin: 0.2em;color: black;border-radius: 0.25em;background-color: #f0f8ff;}#sk-container-id-6 input.sk-toggleable__control:checked~div.sk-toggleable__content {max-height: 200px;max-width: 100%;overflow: auto;}#sk-container-id-6 input.sk-toggleable__control:checked~label.sk-toggleable__label-arrow:before {content: \"▾\";}#sk-container-id-6 div.sk-estimator input.sk-toggleable__control:checked~label.sk-toggleable__label {background-color: #d4ebff;}#sk-container-id-6 div.sk-label input.sk-toggleable__control:checked~label.sk-toggleable__label {background-color: #d4ebff;}#sk-container-id-6 input.sk-hidden--visually {border: 0;clip: rect(1px 1px 1px 1px);clip: rect(1px, 1px, 1px, 1px);height: 1px;margin: -1px;overflow: hidden;padding: 0;position: absolute;width: 1px;}#sk-container-id-6 div.sk-estimator {font-family: monospace;background-color: #f0f8ff;border: 1px dotted black;border-radius: 0.25em;box-sizing: border-box;margin-bottom: 0.5em;}#sk-container-id-6 div.sk-estimator:hover {background-color: #d4ebff;}#sk-container-id-6 div.sk-parallel-item::after {content: \"\";width: 100%;border-bottom: 1px solid gray;flex-grow: 1;}#sk-container-id-6 div.sk-label:hover label.sk-toggleable__label {background-color: #d4ebff;}#sk-container-id-6 div.sk-serial::before {content: \"\";position: absolute;border-left: 1px solid gray;box-sizing: border-box;top: 0;bottom: 0;left: 50%;z-index: 0;}#sk-container-id-6 div.sk-serial {display: flex;flex-direction: column;align-items: center;background-color: white;padding-right: 0.2em;padding-left: 0.2em;position: relative;}#sk-container-id-6 div.sk-item {position: relative;z-index: 1;}#sk-container-id-6 div.sk-parallel {display: flex;align-items: stretch;justify-content: center;background-color: white;position: relative;}#sk-container-id-6 div.sk-item::before, #sk-container-id-6 div.sk-parallel-item::before {content: \"\";position: absolute;border-left: 1px solid gray;box-sizing: border-box;top: 0;bottom: 0;left: 50%;z-index: -1;}#sk-container-id-6 div.sk-parallel-item {display: flex;flex-direction: column;z-index: 1;position: relative;background-color: white;}#sk-container-id-6 div.sk-parallel-item:first-child::after {align-self: flex-end;width: 50%;}#sk-container-id-6 div.sk-parallel-item:last-child::after {align-self: flex-start;width: 50%;}#sk-container-id-6 div.sk-parallel-item:only-child::after {width: 0;}#sk-container-id-6 div.sk-dashed-wrapped {border: 1px dashed gray;margin: 0 0.4em 0.5em 0.4em;box-sizing: border-box;padding-bottom: 0.4em;background-color: white;}#sk-container-id-6 div.sk-label label {font-family: monospace;font-weight: bold;display: inline-block;line-height: 1.2em;}#sk-container-id-6 div.sk-label-container {text-align: center;}#sk-container-id-6 div.sk-container {/* jupyter's `normalize.less` sets `[hidden] { display: none; }` but bootstrap.min.css set `[hidden] { display: none !important; }` so we also need the `!important` here to be able to override the default hidden behavior on the sphinx rendered scikit-learn.org. See: https://github.com/scikit-learn/scikit-learn/issues/21755 */display: inline-block !important;position: relative;}#sk-container-id-6 div.sk-text-repr-fallback {display: none;}</style><div id=\"sk-container-id-6\" class=\"sk-top-container\"><div class=\"sk-text-repr-fallback\"><pre>ElasticNet(alpha=0.007920659761442617, l1_ratio=0.01, tol=0.001)</pre><b>In a Jupyter environment, please rerun this cell to show the HTML representation or trust the notebook. <br />On GitHub, the HTML representation is unable to render, please try loading this page with nbviewer.org.</b></div><div class=\"sk-container\" hidden><div class=\"sk-item\"><div class=\"sk-estimator sk-toggleable\"><input class=\"sk-toggleable__control sk-hidden--visually\" id=\"sk-estimator-id-6\" type=\"checkbox\" checked><label for=\"sk-estimator-id-6\" class=\"sk-toggleable__label sk-toggleable__label-arrow\">ElasticNet</label><div class=\"sk-toggleable__content\"><pre>ElasticNet(alpha=0.007920659761442617, l1_ratio=0.01, tol=0.001)</pre></div></div></div></div></div>"
            ]
          },
          "metadata": {},
          "execution_count": 44
        }
      ]
    },
    {
      "cell_type": "code",
      "source": [
        "print(model3.n_features_in_)\n",
        "print(model3.intercept_)\n",
        "print(model3.coef_)"
      ],
      "metadata": {
        "colab": {
          "base_uri": "https://localhost:8080/"
        },
        "id": "t2ZkoOewxxhy",
        "outputId": "62c5ab09-c398-41b4-e620-469acefade3a"
      },
      "execution_count": null,
      "outputs": [
        {
          "output_type": "stream",
          "name": "stdout",
          "text": [
            "13\n",
            "18.569662527168894\n",
            "[-9.78218743e-02  3.09590509e-02  6.42883296e-02 -2.25540720e-04\n",
            " -3.19310737e+00  5.01570848e+00 -1.37406231e-02 -1.02907312e+00\n",
            "  2.52674350e-01 -1.33842445e-02 -8.41261765e-01  9.82969831e-03\n",
            " -5.21447908e-01]\n"
          ]
        }
      ]
    },
    {
      "cell_type": "code",
      "source": [
        "prediction3=model3.predict(X_test)"
      ],
      "metadata": {
        "id": "8HhqT83hyKTu"
      },
      "execution_count": null,
      "outputs": []
    },
    {
      "cell_type": "code",
      "source": [
        "#Trainning accuracy\n",
        "print(model3.score(X_train, y_train))\n",
        "\n",
        "# (coefficient of determination)\n",
        "print(r2_score(y_test,prediction3))\n",
        "\n",
        "# Mean Squared Error\n",
        "print(mean_squared_error(y_test,prediction3))\n",
        "\n",
        "#RMSE\n",
        "print(math.sqrt(mean_squared_error(y_test,prediction3)))\n",
        "\n",
        "#mean_absolute_error\n",
        "print(mean_absolute_error(y_test,prediction3))\n",
        "\n",
        "#median_absolute_error\n",
        "print(median_absolute_error(y_test,prediction3))"
      ],
      "metadata": {
        "colab": {
          "base_uri": "https://localhost:8080/"
        },
        "id": "CBcm3azmU81B",
        "outputId": "bdcf2286-fcf5-4bbf-c07a-019888f42985"
      },
      "execution_count": null,
      "outputs": [
        {
          "output_type": "stream",
          "name": "stdout",
          "text": [
            "0.7657493747284922\n",
            "0.6389007053796438\n",
            "31.075809612341363\n",
            "5.574568109938326\n",
            "3.860144020014955\n",
            "2.963402597288777\n"
          ]
        }
      ]
    },
    {
      "cell_type": "code",
      "source": [],
      "metadata": {
        "id": "T24i_I0W0lbZ"
      },
      "execution_count": null,
      "outputs": []
    }
  ]
}